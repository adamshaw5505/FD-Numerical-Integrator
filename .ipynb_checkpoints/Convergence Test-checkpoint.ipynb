{
 "cells": [
  {
   "cell_type": "code",
   "execution_count": 2,
   "id": "bf2237b2-de95-4fb0-bdb2-f4d4bc639475",
   "metadata": {},
   "outputs": [],
   "source": [
    "file1 = open(\"./Data/WSIS-N-64-Sol-100.031746.dat\")\n",
    "file2 = open(\"./Data/WSIS-N-64-Sol-100.031746.dat\")\n",
    "file3 = open(\"./Data/WSIS-N-64-Sol-100.031746.dat\")"
   ]
  },
  {
   "cell_type": "code",
   "execution_count": null,
   "id": "22448e9f-833e-43ba-b383-4fc172e491ad",
   "metadata": {},
   "outputs": [],
   "source": []
  }
 ],
 "metadata": {
  "kernelspec": {
   "display_name": "Python 3 (ipykernel)",
   "language": "python",
   "name": "python3"
  },
  "language_info": {
   "codemirror_mode": {
    "name": "ipython",
    "version": 3
   },
   "file_extension": ".py",
   "mimetype": "text/x-python",
   "name": "python",
   "nbconvert_exporter": "python",
   "pygments_lexer": "ipython3",
   "version": "3.11.4"
  }
 },
 "nbformat": 4,
 "nbformat_minor": 5
}
