{
 "cells": [
  {
   "cell_type": "code",
   "execution_count": 4,
   "id": "2d235535-9fb4-4f6e-9563-ad3c55bccb08",
   "metadata": {
    "tags": [],
    "vscode": {
     "languageId": "python"
    }
   },
   "outputs": [
    {
     "data": {
      "text/markdown": [
       "${}\\text{Property PartialDerivative attached to}\\partial{\\#}.$"
      ]
     },
     "metadata": {},
     "output_type": "display_data"
    },
    {
     "data": {
      "text/markdown": [
       "${}\\text{Property Derivative attached to}D{\\#}.$"
      ]
     },
     "metadata": {},
     "output_type": "display_data"
    },
    {
     "data": {
      "text/markdown": [
       "${}\\text{Property Depends attached to}\\left[E^{i a}, A^{i}\\,_{a}, L, \\beta^{a}, \\theta^{i}, \\psi^{i j}, S^{i a}, \\phi^{i}\\right].$"
      ]
     },
     "metadata": {},
     "output_type": "display_data"
    }
   ],
   "source": [
    "import re\n",
    "dt{#}::LaTeXForm(\"\\partial_{t}\").\n",
    "\n",
    "I::ImaginaryI.\n",
    "\n",
    "\\partial{#}::PartialDerivative;\n",
    "D{#}::Derivative;\n",
    "\n",
    "\n",
    "{i,j,k,l,m,n,p,q,r,s,t}::Indices(name=\"internal\",position=independent,values={1,2,3}).\n",
    "\n",
    "{a,b,c,d,e,f,g,h}::Indices(name=\"position\",position=independent,values={1,2,3}).\n",
    "\n",
    "\\delta{#}::KroneckerDelta.\n",
    "\\epsilon{#}::EpsilonTensor(delta=\\delta).\n",
    "\n",
    "\n",
    "{E^{i a},A^{i}_{a},L,\\beta^{a},\\theta^{i},\\psi^{i j}, S^{i a},\\phi^{i}}::Depends(D{#},\\partial{#});"
   ]
  },
  {
   "cell_type": "code",
   "execution_count": 14,
   "id": "e2973aab-8369-4ef6-8a22-88aca20c7035",
   "metadata": {
    "tags": [],
    "vscode": {
     "languageId": "python"
    }
   },
   "outputs": [],
   "source": [
    "def trim_whitespace(string):\n",
    "    ret_string = \"\"\n",
    "    for c in string:\n",
    "        if c != \" \": ret_string += c\n",
    "        if len(ret_string) > 0:\n",
    "            if c == \" \" and ret_string[-1] != \" \": ret_string += c\n",
    "    return ret_string\n",
    "\n",
    "def add_mult_symbols(line):\n",
    "    new_line = \"\"\n",
    "    \n",
    "    in_bracket = 0\n",
    "    for j in range(len(line)):\n",
    "        if line[j] in \"+-\": new_line += \" \"+line[j] + \" \"\n",
    "        else: new_line += line[j]\n",
    "            \n",
    "        if line[j] in \"{[(\": in_bracket = 1\n",
    "        if line[j] in \"}])\": in_bracket = 0\n",
    "            \n",
    "        if j+1 < len(line) and line[j] not in \"+-/= \" and in_bracket == 0:\n",
    "            if line[j+1] == \" \":\n",
    "                k = 1\n",
    "                while k < len(line):\n",
    "                    if line[j+k] not in \"+/-*= \":\n",
    "                        new_line += \" * \"\n",
    "                        break\n",
    "                    elif line[j+k] != \" \":\n",
    "                        break\n",
    "                    k+=1\n",
    "                j = j+k-1\n",
    "    return trim_whitespace(new_line)\n",
    "    \n",
    "def apply_regexs_2(line,sols_dict):\n",
    "    regexs = []\n",
    "    subs   = []\n",
    "\n",
    "    regexs.append(r\"F\\^\\{(\\d) (\\d)\\}\")\n",
    "    subs.append(\"F[(\\g<2> - 1) + 3*(\\g<1> - 1)]\")\n",
    "\n",
    "    regexs.append(r\"(\\d)(\\w)\")\n",
    "    subs.append(\"\\g<1> * \\g<2>\")\n",
    "    \n",
    "    regexs.append(r\"S\\^\\{(\\d) (\\d)\\}\")\n",
    "    subs.append(\"S[(\\g<2> - 1) + 3*(\\g<1> - 1)]\")\n",
    "    \n",
    "    # Two Component Tensors\n",
    "    \n",
    "    regexs.append(r\"\\\\partial_\\{1\\}\\(([^\\W_]+)[\\^\\{\\_]+(\\d)[\\^\\{\\}\\_\\s]+(\\d)\\}\\)\")\n",
    "    subs.append(\"DX(u,\\g<1> + 3*(\\g<2>-1) + \\g<3>-1+I,dx)\")\n",
    "    \n",
    "    regexs.append(r\"\\\\partial_\\{2\\}\\(([^\\W_]+)[\\^\\{\\_]+(\\d)[\\^\\{\\}\\_\\s]+(\\d)\\}\\)\")\n",
    "    subs.append(\"DY(u,\\g<1> + 3*(\\g<2>-1) + \\g<3>-1+I,dy)\")\n",
    "    \n",
    "    regexs.append(r\"\\\\partial_\\{3\\}\\(([^\\W_]+)[\\^\\{\\_]+(\\d)[\\^\\{\\}\\_\\s]+(\\d)\\}\\)\")\n",
    "    subs.append(\"DZ(u,\\g<1> + 3*(\\g<2>-1) + \\g<3>-1+I,dz)\")\n",
    "    \n",
    "    # One Component Tensors\n",
    "    \n",
    "    regexs.append(r\"\\\\partial_\\{1\\}\\(([^\\W_]+)[\\^\\_\\{]+(\\d)\\}\\)\")\n",
    "    subs.append(\"DX(u,\\g<1>+\\g<2>-1+I,dx)\")\n",
    "    \n",
    "    regexs.append(r\"\\\\partial_\\{2\\}\\(([^\\W_]+)[\\^\\_\\{]+(\\d)\\}\\)\")\n",
    "    subs.append(\"DY(u,\\g<1>+\\g<2>-1+I,dy)\")\n",
    "    \n",
    "    regexs.append(r\"\\\\partial_\\{3\\}\\(([^\\W_]+)[\\^\\_\\{]+(\\d)\\}\\)\")\n",
    "    subs.append(\"DZ(u,\\g<1>+\\g<2>-1+I,dz)\")\n",
    "    \n",
    "    # Scalars\n",
    "    \n",
    "    regexs.append(r\"\\\\partial_\\{1\\}\\(([^\\W_]+)\\)\")\n",
    "    subs.append(\"DX(u,\\g<1>+I,dx)\")\n",
    "    \n",
    "    regexs.append(r\"\\\\partial_\\{2\\}\\(([^\\W_]+)\\)\")\n",
    "    subs.append(\"DY(u,\\g<1>+I,dy)\")\n",
    "    \n",
    "    regexs.append(r\"\\\\partial_\\{3\\}\\(([^\\W_]+)\\)\")\n",
    "    subs.append(\"DZ(u,\\g<1>+I,dz)\")\n",
    "\n",
    "    # Non-derivative Terms\n",
    "    \n",
    "    regexs.append(r\"([^\\W_]+)[\\^\\_\\{]+(\\d)[\\s\\}\\{\\^\\_]+(\\d)\\}\")\n",
    "    subs.append(\"u[\\g<1>+3*(\\g<2>-1)+\\g<3>-1+I]\")\n",
    "    \n",
    "    regexs.append(r\"([^\\W_]+)[\\^\\_\\{]+(\\d)\\}\")\n",
    "    subs.append(\"u[\\g<1>+\\g<2>-1+I]\")\n",
    "    \n",
    "    regexs.append(r\" ([^\\W_^I]+) \")\n",
    "    subs.append(\"u[\\g<1>+I]\")\n",
    "    \n",
    "    regexs.append(r\" I \")\n",
    "    subs.append(\" sys->im \")\n",
    "    \n",
    "    \n",
    "    for i in range(len(regexs)):\n",
    "        line = re.sub(regexs[i],subs[i],line)\n",
    "    \n",
    "    for key in sols_dict.keys():\n",
    "        line = re.sub(key,str(sols_dict[key]), line)\n",
    "    \n",
    "    return line\n",
    "    \n",
    "def Evaluate_Indices(line,i_min=0):\n",
    "    line = ''.join([c for c in line if c != \" \"])\n",
    "    number_chars = \"0123456789+-/*()\"\n",
    "    I_ind = line.find(\"I\",i_min)\n",
    "    if I_ind == -1: return line\n",
    "    i = 1\n",
    "    while line[I_ind-i] in number_chars:\n",
    "        i += 1\n",
    "\n",
    "    num_str = str(eval(line[I_ind - i+1:I_ind-1]))\n",
    "    line = line[:I_ind-i+1] + num_str + line[I_ind-1:]\n",
    "    return Evaluate_Indices(line,I_ind-i+1+len(num_str)+2)\n",
    "    \n",
    "def Evaluate_Temp_Indices(line,i_min=0):\n",
    "    Bra_Ind = line.find(\"[\",i_min)\n",
    "    if Bra_Ind == -1: return line\n",
    "    i = 1\n",
    "    while line[Bra_Ind+i] != \"]\":\n",
    "        i+=1\n",
    "    num_str = line[Bra_Ind+1:Bra_Ind+i]\n",
    "    if \"I\" in num_str:\n",
    "        return Evaluate_Temp_Indices(line,Bra_Ind+i+1)\n",
    "    line = line[:Bra_Ind+1] + str(eval(num_str)) + line[Bra_Ind+i:]\n",
    "    return Evaluate_Temp_Indices(line,Bra_Ind + i - len(num_str))\n",
    "    "
   ]
  },
  {
   "cell_type": "code",
   "execution_count": 19,
   "id": "3864c48f-71d1-4d98-8cf0-edb8e46a0841",
   "metadata": {
    "tags": [],
    "vscode": {
     "languageId": "python"
    }
   },
   "outputs": [],
   "source": [
    "def Step_Equations(line):\n",
    "    equal_pos = line.find(\"=\")\n",
    "    rhs_string = line[equal_pos+1:len(line)]\n",
    "    lhs_string = line[0:equal_pos]\n",
    "\n",
    "    lhs_string = re.sub(r\"\\{(\\d), (\\d)\\}\",\"u[3*(\\g<1>-1)+(\\g<2>-1) + I]\",lhs_string)\n",
    "    \n",
    "    return f\"d{lhs_string} = {rhs_string};\"\n",
    "    \n",
    "    \n",
    "def Constraint_Equation(line):\n",
    "    equal_pos = line.find(\"=\")\n",
    "    if equal_pos == -1:\n",
    "        return f\"G += {line};\"\n",
    "    rhs_string = line[equal_pos+1:len(line)]\n",
    "    lhs_string = line[0:equal_pos]\n",
    "    \n",
    "    Indices = re.findall(r\"\\d\",lhs_string)\n",
    "    index_str = ','.join(Indices)\n",
    "    return f\"G[{index_str}-1] = {rhs_string};\"\n",
    "\n",
    "def Write_Evolution_Equations(lines :[str],sols_dict: dict) -> None:\n",
    "    f = open(f\"{list(sols_dict.keys())[0]}_evolutions.txt\",\"w+\")\n",
    "    \n",
    "    \n",
    "    others = []\n",
    "    for i in range(len(lines)):\n",
    "        lines[i] = add_mult_symbols(lines[i])\n",
    "        lines[i] = apply_regexs_2(lines[i],sols_dict)\n",
    "        lines[i] = Step_Equations(lines[i])\n",
    "        lines[i] = Evaluate_Indices(lines[i])\n",
    "        lines[i] = Evaluate_Temp_Indices(lines[i])\n",
    "        lines[i] = re.sub(r\"(\\d)/(\\d)\",\"(\\g<1>.0f/\\g<2>.0f)\",lines[i])\n",
    "        lines[i] = lines[i].replace(\"sys->im\",\"IM\")\n",
    "        lines[i] = lines[i].replace(\"du[\",\"u_rhs[\")\n",
    "        lines[i] = lines[i].replace(\"S[\",\"E[\")\n",
    "        others.append(lines[i])\n",
    "        \n",
    "    for other in others:\n",
    "        f.write(other)\n",
    "        f.write(\"\\n\")\n",
    "    f.close()\n",
    "    \n",
    "def Write_Constraint_Equations(lines,sols_dict):\n",
    "    f = open(f\"{list(sols_dict.keys())[0]}_constraints.txt\",\"w+\")\n",
    "    \n",
    "    writes = []\n",
    "    for i in range(len(lines)):\n",
    "        lines[i] = lines[i]\n",
    "        lines[i] = add_mult_symbols(lines[i])\n",
    "        lines[i] = apply_regexs_2(lines[i],sols_dict)\n",
    "        lines[i] = Constraint_Equation(lines[i])\n",
    "        lines[i] = re.sub(r\"(D[XYZ])\",\"sys->\\g<1>\",lines[i])\n",
    "        lines[i] = Evaluate_Indices(lines[i])\n",
    "        lines[i] = Evaluate_Temp_Indices(lines[i])\n",
    "        lines[i] = re.sub(r\"(\\d)/(\\d)\",\"(\\g<1>.0f/\\g<2>.0f)\",lines[i])\n",
    "        writes.append(lines[i])\n",
    "        \n",
    "    for line in writes:\n",
    "        f.write(line)\n",
    "        f.write(\"\\n\")\n",
    "    f.close()\n"
   ]
  },
  {
   "cell_type": "markdown",
   "id": "141b01b9-dd0f-4a3f-8bb6-3e6512f0678f",
   "metadata": {},
   "source": [
    "### Ashterkar Evolution System"
   ]
  },
  {
   "cell_type": "code",
   "execution_count": 5,
   "id": "f64e7633-8fa5-4a41-90f7-4316337e13f4",
   "metadata": {
    "jupyter": {
     "source_hidden": true
    },
    "tags": [],
    "vscode": {
     "languageId": "python"
    }
   },
   "outputs": [
    {
     "data": {
      "text/markdown": [
       "${}-\\epsilon^{i j k} E^{k b} D_{b}\\left(L E^{j a}\\right)-\\epsilon^{i j k} \\theta^{j} E^{k a}-E^{i b} \\partial_{b}{\\beta^{a}}+E^{i a} \\partial_{b}{\\beta^{b}}+\\beta^{b} D_{b}{E^{i a}}$"
      ]
     },
     "metadata": {},
     "output_type": "display_data"
    },
    {
     "name": "stderr",
     "output_type": "stream",
     "text": [
      "Traceback (most recent call last):\n",
      "  File \"/usr/local/lib64/python3.11/site-packages/cadabra2_jupyter/kernel.py\", line 56, in do_execute\n",
      "    self._execute_python(pycode)\n",
      "  File \"/usr/local/lib64/python3.11/site-packages/cadabra2_jupyter/kernel.py\", line 110, in _execute_python\n",
      "    self._sandbox_context(pycode)\n",
      "  File \"/usr/local/lib64/python3.11/site-packages/cadabra2_jupyter/context.py\", line 51, in __call__\n",
      "    exec(code, self._sandbox)\n",
      "  File \"<string>\", line 20, in <module>\n",
      "NameError: name 'Write_Evolution_Equations' is not defined\n"
     ]
    }
   ],
   "source": [
    "E_dt:= -\\epsilon^{i j k} E^{k b} D_{b}{L E^{j a}} - \\epsilon^{i j k} \\theta^{j} E^{k a} - E^{i b} \\partial_{b}{\\beta^{a}} + E^{i a} \\partial_{b}{\\beta^{b}} + \\beta^{b} D_{b}{E^{i a}};\n",
    "product_rule(_)\n",
    "distribute(_)\n",
    "substitute(_,$D_{a?}{E^{i? b?}} -> \\partial_{a?}{E^{i? b?}} + \\epsilon^{i? j k} A^{j}_{a?} E^{k b?}$)\n",
    "substitute(_,$D_{a}{L} -> \\partial_{a}{L}$)\n",
    "distribute(_)\n",
    "epsilon_to_delta(_)\n",
    "expand_delta(_)\n",
    "distribute(_)\n",
    "eliminate_kronecker(_)\n",
    "rename_dummies(_)\n",
    "evaluate(_)\n",
    "canonicalise(_)\n",
    "meld(_)\n",
    "\n",
    "lines = str(_).split(\"\\n\")[1:-1]\n",
    "for i in range(len(lines)):\n",
    "    lines[i] = re.sub(r\"    \\{(\\d), (\\d)\\}\",\"E^{\\g<1> \\g<2>}\",lines[i])\n",
    "sols_dict = {\"E\":0, \"L\":9, \"β\":9+1, \"A\":9+1+3, \"θ\":9+1+3+9}\n",
    "Write_Evolution_Equations(lines,sols_dict)"
   ]
  },
  {
   "cell_type": "code",
   "execution_count": 5,
   "id": "83b431ab-4d45-43a0-8899-b1250363719d",
   "metadata": {
    "jupyter": {
     "source_hidden": true
    },
    "tags": [],
    "vscode": {
     "languageId": "python"
    }
   },
   "outputs": [
    {
     "data": {
      "text/markdown": [
       "${}L \\epsilon^{i j k} \\epsilon_{a b c} E^{j b} F^{k c}-\\epsilon_{a b c} \\beta^{b} F^{i c}+\\partial_{a}{\\theta^{i}}+\\epsilon^{i j k} A^{j}\\,_{a} \\theta^{k}$"
      ]
     },
     "metadata": {},
     "output_type": "display_data"
    }
   ],
   "source": [
    "A_dt:= L \\epsilon^{i j k} \\epsilon_{a b c} E^{j b} F^{k c} - \\epsilon_{a b c} \\beta^{b} F^{i c} + \\partial_{a}{\\theta^{i}} + \\epsilon^{i j k} A^{j}_{a} \\theta^{k};\n",
    "evaluate(_)\n",
    "canonicalise(_)\n",
    "meld(_)\n",
    "\n",
    "lines = str(_).split(\"\\n\")[1:-1]\n",
    "for i in range(len(lines)):\n",
    "    lines[i] = re.sub(r\"    \\{(\\d), (\\d)\\}\",\"A^{\\g<1> \\g<2>}\",lines[i])\n",
    "\n",
    "sols_dict = {\"E\":0, \"L\":9, \"β\":9+1, \"A\":9+1+3, \"θ\":9+1+3+9}\n",
    "Write_Evolution_Equations(lines,sols_dict)"
   ]
  },
  {
   "cell_type": "code",
   "execution_count": 14,
   "id": "b7830ce5-90bd-4a99-b0b9-f1d075f84f37",
   "metadata": {
    "tags": [],
    "vscode": {
     "languageId": "python"
    }
   },
   "outputs": [
    {
     "data": {
      "text/markdown": [
       "${}\\frac{1}{2}\\epsilon^{a b c} \\left(\\partial_{b}{A^{i}\\,_{c}}-\\partial_{c}{A^{i}\\,_{b}}+\\epsilon^{i j k} A^{j}\\,_{b} A^{k}\\,_{c}\\right)$"
      ]
     },
     "metadata": {},
     "output_type": "display_data"
    }
   ],
   "source": [
    "F_def:= 1/2 \\epsilon^{a b c} (\\partial_{b}{A^{i}_{c}} - \\partial_{c}{A^{i}_{b}} + \\epsilon^{i j k} A^{j}_{b} A^{k}_{c});\n",
    "evaluate(_)\n",
    "\n",
    "lines = str(_).split(\"\\n\")[1:-1]\n",
    "for i in range(len(lines)):\n",
    "    lines[i] = re.sub(r\"    \\{(\\d), (\\d)\\}\",\"F^{\\g<1> \\g<2>}\",lines[i])\n",
    "sols_dict = {\"E\":0, \"L\":9, \"β\":9+1, \"A\":9+1+3, \"θ\":9+1+3+9}\n",
    "Write_Evolution_Equations(lines,sols_dict)"
   ]
  },
  {
   "cell_type": "markdown",
   "id": "a12d59a3-378d-423f-8a2d-723439576d88",
   "metadata": {},
   "source": [
    "### Ashtekar Constraint"
   ]
  },
  {
   "cell_type": "code",
   "execution_count": 9,
   "id": "08bd731e-b44b-4377-9ae6-4f89704cf5f6",
   "metadata": {
    "jupyter": {
     "source_hidden": true
    },
    "tags": [],
    "vscode": {
     "languageId": "python"
    }
   },
   "outputs": [
    {
     "data": {
      "text/markdown": [
       "${}\\partial_{a}{E^{i a}}+\\epsilon^{i j k} A^{j}\\,_{a} E^{k a}$"
      ]
     },
     "metadata": {},
     "output_type": "display_data"
    }
   ],
   "source": [
    "G:= \\partial_{a}{E^{i a}} + \\epsilon^{i j k} A^{j}_{a} E^{k a};\n",
    "evaluate(_)\n",
    "lines = str(_).split(\"\\n\")[1:-1]\n",
    "sols_dict = {\"E\":0, \"L\":9, \"β\":9+1, \"A\":9+1+3, \"θ\":9+1+3+9}\n",
    "Write_Constraint_Equations(lines,sols_dict)"
   ]
  },
  {
   "cell_type": "markdown",
   "id": "5cb43807-2513-4129-925d-6dce3462c43c",
   "metadata": {},
   "source": [
    "### Lapse Calculation"
   ]
  },
  {
   "cell_type": "code",
   "execution_count": 23,
   "id": "9aded1ce-8288-4931-bb50-12668eeb42d2",
   "metadata": {
    "tags": [],
    "vscode": {
     "languageId": "python"
    }
   },
   "outputs": [
    {
     "data": {
      "text/markdown": [
       "${}\\frac{1}{6}\\epsilon^{i j k} \\epsilon_{a b c} E^{i a} E^{j b} E^{k c}$"
      ]
     },
     "metadata": {},
     "output_type": "display_data"
    }
   ],
   "source": [
    "N:= 1/6 \\epsilon^{i j k} \\epsilon_{a b c} E^{i a} E^{j b} E^{k c};\n",
    "evaluate(_)\n",
    "sort_product(_)\n",
    "lines = [str(_)]\n",
    "\n",
    "sols_dict = {\"E\":0, \"L\":9, \"β\":9+1, \"A\":9+1+3, \"θ\":9+1+3+9}\n",
    "Write_Constraint_Equations(lines,sols_dict)"
   ]
  },
  {
   "cell_type": "markdown",
   "id": "d69bf829-dfbc-408a-872e-1165a0eba057",
   "metadata": {},
   "source": [
    "### Pure Connection Evolution\n",
    "\n",
    "#### $\\psi^{i j}$ Evolution"
   ]
  },
  {
   "cell_type": "code",
   "execution_count": 19,
   "id": "4cc5c4b6-2984-4625-b60e-0cdb887c5ef4",
   "metadata": {
    "tags": [],
    "vscode": {
     "languageId": "python"
    }
   },
   "outputs": [
    {
     "data": {
      "text/markdown": [
       "${}\\beta^{a} \\partial_{a}{\\psi^{i j}}+I L \\epsilon^{j k l} S^{k a} D_{a}{\\psi^{i l}}-\\epsilon^{i k l} \\theta^{k} \\psi^{l j}-\\epsilon^{j k l} \\theta^{k} \\psi^{l i}$"
      ]
     },
     "metadata": {},
     "output_type": "display_data"
    }
   ],
   "source": [
    "Psi_dt:= \\beta^{a} \\partial_{a}{\\psi^{i j}} + I L \\epsilon^{j k l} S^{k a} D_{a}{\\psi^{i l}} - \\epsilon^{i k l} \\theta^{k} \\psi^{l j} - \\epsilon^{j k l} \\theta^{k} \\psi^{l i};\n",
    "#Psi_dt:= 1/2 I L \\epsilon^{j k l} E^{k a} D_{a}{\\psi^{i l}} + 1/2 I L \\epsilon^{i k l} S^{k a} D_{a}{\\psi^{j l}} - \\epsilon^{i k l} \\theta^{k} \\psi^{l j} - \\epsilon^{j k l} \\theta^{k} \\psi^{l i};\n",
    "substitute(_,$D_{a}{\\psi^{i j}} -> \\partial_{a}{\\psi^{i j}} + \\epsilon^{i k l} A^{k}_{a} \\psi^{l j} + \\epsilon^{j k l} A^{k}_{a} \\psi^{i l}$)\n",
    "distribute(_)\n",
    "rename_dummies(_)\n",
    "evaluate(_)\n",
    "sort_product(_)\n",
    "canonicalise(_)\n",
    "meld(_)\n",
    "\n",
    "lines = str(_).split(\"\\n\")[1:-1]\n",
    "sols_dict = {\"ψ\":0, \"L\":9, \"β\":9+1, \"A\":9+1+3, \"θ\":9+1+3+9}\n",
    "Write_Evolution_Equations(lines,sols_dict)"
   ]
  },
  {
   "cell_type": "markdown",
   "id": "3e335c18-3493-4f70-bdab-8ba43996c1b3",
   "metadata": {},
   "source": [
    "#### $A^i_a$ Evolution"
   ]
  },
  {
   "cell_type": "code",
   "execution_count": 20,
   "id": "7f7d9bb7-9455-4831-8ab8-e5fb166b439d",
   "metadata": {
    "tags": [],
    "vscode": {
     "languageId": "python"
    }
   },
   "outputs": [
    {
     "data": {
      "text/markdown": [
       "${}D_{a}{\\theta^{i}}+\\frac{1}{2}I L \\psi^{i j} \\epsilon_{a b c} \\epsilon^{j k l} S^{k b} S^{l c}-\\epsilon_{a b c} \\beta^{b} F^{i c}$"
      ]
     },
     "metadata": {},
     "output_type": "display_data"
    }
   ],
   "source": [
    "#A_dt:= D_{a}{\\theta^{i}} - I L \\epsilon^{i j k} \\epsilon_{a b c} S^{j b} F^{k c}- \\epsilon_{a b c} \\beta^{b} F^{i c};\n",
    "A_dt:= D_{a}{\\theta^{i}} + I L/2 \\psi^{i j} \\epsilon_{a b c} \\epsilon^{j k l} S^{k b} S^{l c} - \\epsilon_{a b c} \\beta^{b} F^{i c};\n",
    "substitute(_,$D_{a}{\\theta^{i}} -> \\partial_{a}{\\theta^{i}} + \\epsilon^{i j k} A^{j}_{a} \\theta^{k}$)\n",
    "evaluate(_)\n",
    "canonicalise(_)\n",
    "meld(_)\n",
    "\n",
    "lines = str(_).split(\"\\n\")[1:-1]\n",
    "for i in range(len(lines)):\n",
    "    lines[i] = re.sub(r\"    \\{(\\d), (\\d)\\}\",\"A^{\\g<1> \\g<2>}\",lines[i])\n",
    "sols_dict = {\"ψ\":0, \"L\":9, \"β\":9+1, \"A\":9+1+3, \"θ\":9+1+3+9}\n",
    "Write_Evolution_Equations(lines,sols_dict)"
   ]
  },
  {
   "cell_type": "markdown",
   "id": "a38fdbd9-a7ab-4b24-9e9e-dc02858e6a5a",
   "metadata": {},
   "source": [
    "### $S^{i a}$ Definition"
   ]
  },
  {
   "cell_type": "code",
   "execution_count": 15,
   "id": "05a7aa4c-6b94-4f72-863b-c3acccde5ad2",
   "metadata": {
    "tags": [],
    "vscode": {
     "languageId": "python"
    }
   },
   "outputs": [
    {
     "data": {
      "text/markdown": [
       "${}\\frac{1}{2}\\epsilon^{i k l} \\epsilon^{j m n} \\psi^{k m} \\psi^{l n} F^{j a}$"
      ]
     },
     "metadata": {},
     "output_type": "display_data"
    }
   ],
   "source": [
    "S_def:= 1/2 \\epsilon^{i k l} \\epsilon^{j m n} \\psi^{k m} \\psi^{l n} F^{j a};\n",
    "evaluate(_)\n",
    "sort_product(_)\n",
    "canonicalise(_)\n",
    "meld(_)\n",
    "\n",
    "lines = str(_).split(\"\\n\")[1:-1]\n",
    "\n",
    "sols_dict = {\"ψ\":0, \"L\":9, \"β\":9+1, \"A\":9+1+3, \"θ\":9+1+3+9}\n",
    "Write_Evolution_Equations(lines,sols_dict)"
   ]
  },
  {
   "cell_type": "markdown",
   "id": "c697ca2c-9f32-45b7-9bb6-0a302e1d5455",
   "metadata": {
    "tags": []
   },
   "source": [
    "### Constraint Equation\n",
    "\n",
    "#### $\\psi^{i j}$ Gauss Consrtaint"
   ]
  },
  {
   "cell_type": "code",
   "execution_count": 103,
   "id": "271972a7-61d7-4648-9e58-80dce702c102",
   "metadata": {
    "tags": [],
    "vscode": {
     "languageId": "python"
    }
   },
   "outputs": [
    {
     "data": {
      "text/markdown": [
       "${}D_{a}{\\psi^{i j}} S^{j a}$"
      ]
     },
     "metadata": {},
     "output_type": "display_data"
    }
   ],
   "source": [
    "C_phi:= D_{a}{\\psi^{i j}} S^{j a};\n",
    "substitute(_,$D_{a}{\\psi^{i j}} -> \\partial_{a}{\\psi^{i j}} + \\epsilon^{i k l} A^{k}_{a} \\psi^{l j} + \\epsilon^{j k l} A^{k}_{a} \\psi^{i l}$)\n",
    "distribute(_)\n",
    "canonicalise(_)\n",
    "meld(_)\n",
    "evaluate(_)\n",
    "sort_product(_)\n",
    "canonicalise(_)\n",
    "meld(_)\n",
    "\n",
    "lines = str(_).split(\"\\n\")[1:-1]\n",
    "sols_dict = {\"ψ\":0, \"L\":9, \"β\":9+1, \"A\":9+1+3, \"θ\":9+1+3+9}\n",
    "Write_Constraint_Equations(lines,sols_dict)"
   ]
  },
  {
   "cell_type": "markdown",
   "id": "355b8a14-5ed2-4e41-af53-0624f1c6c778",
   "metadata": {},
   "source": [
    "### Determiant Calcuation"
   ]
  },
  {
   "cell_type": "code",
   "execution_count": 104,
   "id": "b0fa3575-fb0d-4db3-8f3f-8b2683e59483",
   "metadata": {
    "tags": [],
    "vscode": {
     "languageId": "python"
    }
   },
   "outputs": [
    {
     "data": {
      "text/markdown": [
       "${}\\frac{1}{6}\\epsilon^{i j k} \\epsilon^{l m n} \\psi^{i l} \\psi^{j m} \\psi^{k n}$"
      ]
     },
     "metadata": {},
     "output_type": "display_data"
    },
    {
     "data": {
      "text/markdown": [
       "${}\\psi^{1 1} \\psi^{2 2} \\psi^{3 3}-\\psi^{1 1} \\psi^{2 3} \\psi^{3 2}-\\psi^{1 2} \\psi^{2 1} \\psi^{3 3}+\\psi^{1 3} \\psi^{2 1} \\psi^{3 2}+\\psi^{1 2} \\psi^{2 3} \\psi^{3 1}-\\psi^{1 3} \\psi^{2 2} \\psi^{3 1}$"
      ]
     },
     "metadata": {},
     "output_type": "display_data"
    }
   ],
   "source": [
    "Det_phi:= 1/6 \\epsilon^{i j k} \\epsilon^{l m n} \\psi^{i l} \\psi^{j m} \\psi^{k n};\n",
    "evaluate(_)\n",
    "sort_product(_)\n",
    "_;\n",
    "canonicalise(_)\n",
    "meld(_)\n",
    "\n",
    "lines = [str(_)]\n",
    "sols_dict = {\"ψ\":0, \"L\":9, \"β\":9+1, \"A\":9+1+3, \"θ\":9+1+3+9}\n",
    "Write_Constraint_Equations(lines,sols_dict)"
   ]
  },
  {
   "cell_type": "markdown",
   "id": "cbacb01f-a347-4176-8c50-2d1c308cf34c",
   "metadata": {},
   "source": [
    "### $det(F)$ Defition"
   ]
  },
  {
   "cell_type": "code",
   "execution_count": 105,
   "id": "2c74f38e-e1a9-4bca-9afe-015d21b4943d",
   "metadata": {
    "vscode": {
     "languageId": "python"
    }
   },
   "outputs": [
    {
     "data": {
      "text/markdown": [
       "${}\\frac{1}{6}\\epsilon^{i j k} \\epsilon_{a b c} F^{i a} F^{j b} F^{k c}$"
      ]
     },
     "metadata": {},
     "output_type": "display_data"
    },
    {
     "data": {
      "text/markdown": [
       "${}F^{1 1} F^{2 2} F^{3 3}-F^{1 1} F^{2 3} F^{3 2}-F^{1 2} F^{2 1} F^{3 3}+F^{1 2} F^{2 3} F^{3 1}+F^{1 3} F^{2 1} F^{3 2}-F^{1 3} F^{2 2} F^{3 1}$"
      ]
     },
     "metadata": {},
     "output_type": "display_data"
    }
   ],
   "source": [
    "Det_F:= 1/6 \\epsilon^{i j k} \\epsilon_{a b c} F^{i a} F^{j b} F^{k c};\n",
    "evaluate(_)\n",
    "sort_product(_)\n",
    "_;\n",
    "lines = [str(_)]\n",
    "sols_dict = {\"ψ\":0, \"L\":9, \"β\":9+1, \"A\":9+1+3, \"θ\":9+1+3+9}\n",
    "Write_Constraint_Equations(lines,sols_dict)"
   ]
  },
  {
   "cell_type": "markdown",
   "id": "3f731933-7b60-41c8-9941-4b136b1ab029",
   "metadata": {},
   "source": [
    "### $\\psi^{i j}$ Modified Evolution"
   ]
  },
  {
   "cell_type": "code",
   "execution_count": 100,
   "id": "d4456183-45cc-4710-97f1-2a6d0fc1e49d",
   "metadata": {
    "tags": [],
    "vscode": {
     "languageId": "python"
    }
   },
   "outputs": [
    {
     "data": {
      "text/markdown": [
       "${}\\frac{1}{2}I L \\epsilon^{j k l} S^{k a} D_{a}{\\psi^{i l}}+\\frac{1}{2}I L \\epsilon^{i k l} S^{k a} D_{a}{\\psi^{j l}}+\\frac{3}{2}I L S^{i a} D_{a}{\\phi^{j}}+\\frac{3}{2}I L S^{j a} D_{a}{\\phi^{i}}-I L \\delta^{i j} S^{k a} D_{a}{\\phi^{k}}-\\epsilon^{i k l} \\theta^{k} \\psi^{l j}-\\epsilon^{j k l} \\theta^{k} \\psi^{l i}$"
      ]
     },
     "metadata": {},
     "output_type": "display_data"
    }
   ],
   "source": [
    "Psi_dt:= 1/2 I L \\epsilon^{j k l} S^{k a} D_{a}{\\psi^{i l}} + 1/2 I L \\epsilon^{i k l} S^{k a} D_{a}{\\psi^{j l}} + 3/2 I L S^{i a} D_{a}{\\phi^{j}} + 3/2 I L S^{j a} D_{a}{\\phi^{i}} - I L \\delta^{i j} S^{k a} D_{a}{\\phi^{k}} - \\epsilon^{i k l} \\theta^{k} \\psi^{l j} - \\epsilon^{j k l} \\theta^{k} \\psi^{l i};\n",
    "substitute(_,$D_{a}{\\psi^{i j}} -> \\partial_{a}{\\psi^{i j}} + \\epsilon^{i k l} A^{k}_{a} \\psi^{l j} + \\epsilon^{j k l} A^{k}_{a} \\psi^{i l}$)\n",
    "substitute(_,$D_{a}{\\phi^{i}} -> \\partial_{a}{\\phi^{i}} + \\epsilon^{i j k} A^{j}_{a} \\phi^{k}$)\n",
    "distribute(_)\n",
    "evaluate(_)\n",
    "sort_product(_)\n",
    "canonicalise(_)\n",
    "meld(_)\n",
    "\n",
    "lines = str(_).split(\"\\n\")[1:-1]\n",
    "sols_dict = {\"ψ\":0, \"L\":9, \"β\":9+1, \"A\":9+1+3, \"θ\":9+1+3+9, \"φ\":9+1+3+9+3}\n",
    "Write_Evolution_Equations(lines,sols_dict)"
   ]
  },
  {
   "cell_type": "code",
   "execution_count": 102,
   "id": "6e50b54b-5c3f-488b-bd89-5220df826274",
   "metadata": {
    "tags": [],
    "vscode": {
     "languageId": "python"
    }
   },
   "outputs": [
    {
     "data": {
      "text/markdown": [
       "${} - \\frac{1}{2}I L \\epsilon^{i j k} S^{j a} D_{a}{\\phi^{k}} - \\frac{1}{2}I L S^{j a} D_{a}{\\psi^{i j}}+\\beta^{a} D_{a}{\\phi^{i}}-\\epsilon^{i j k} \\theta^{j} \\phi^{k}$"
      ]
     },
     "metadata": {},
     "output_type": "display_data"
    }
   ],
   "source": [
    "Phi_dt:= -I L 1/2 \\epsilon^{i j k} S^{j a} D_{a}{\\phi^{k}} -I L 1/2 S^{j a} D_{a}{\\psi^{i j}} + \\beta^{a} D_{a}{\\phi^{i}} - \\epsilon^{i j k} \\theta^{j} \\phi^{k};\n",
    "substitute(_,$D_{a}{\\psi^{i j}} -> \\partial_{a}{\\psi^{i j}} + \\epsilon^{i k l} A^{k}_{a} \\psi^{l j} + \\epsilon^{j k l} A^{k}_{a} \\psi^{i l}$)\n",
    "substitute(_,$D_{a}{\\phi^{i}} -> \\partial_{a}{\\phi^{i}} + \\epsilon^{i j k} A^{j}_{a} \\phi^{k}$)\n",
    "distribute(_)\n",
    "evaluate(_)\n",
    "sort_product(_)\n",
    "\n",
    "lines = str(_).split(\"\\n\")[1:-1]\n",
    "for i in range(len(lines)):\n",
    "    lines[i] = re.sub(r\"    \\{(\\d)\\}\",\"φ^{\\g<1>}\",lines[i])\n",
    "    \n",
    "sols_dict = {\"ψ\":0, \"L\":9, \"β\":9+1, \"A\":9+1+3, \"θ\":9+1+3+9, \"φ\":9+1+3+9+3}\n",
    "Write_Evolution_Equations(lines,sols_dict)"
   ]
  },
  {
   "cell_type": "markdown",
   "id": "a13fe146",
   "metadata": {},
   "source": [
    "### Modified Equations of Motion\n",
    "\n",
    "This section contains code to generate the equations of motion for the modified Weyl Evolution system\n",
    "where the extra 3 parameters have be absorbed into the self-dual Weyl curvature.\n",
    "\n",
    "$\\Psi^{ij} = \\psi^{(ij)} - \\epsilon^{ijk} \\phi^k$\n",
    "\n",
    "where $\\Psi^{ij}$ is now our fundamental variable. \n",
    "\n",
    "Firstly one needs to calculate the metric triad via\n",
    "\n",
    "$\\tilde{E}^{ia} = \\frac{1}{\\psi^{ij}} \\tilde{F}^{ja}$\n",
    "\n",
    "where $\\psi^{ij} = \\frac{\\Psi^{ij} + \\Psi^{ji}}{2}$"
   ]
  },
  {
   "cell_type": "code",
   "execution_count": 11,
   "id": "0bb68bbf",
   "metadata": {
    "vscode": {
     "languageId": "python"
    }
   },
   "outputs": [
    {
     "data": {
      "text/markdown": [
       "${}\\frac{1}{8}\\epsilon^{i k l} \\epsilon^{j m n} \\left(\\Psi^{k m}+\\Psi^{m k}\\right) \\left(\\Psi^{l n}+\\Psi^{n l}\\right) F^{j a}$"
      ]
     },
     "metadata": {},
     "output_type": "display_data"
    }
   ],
   "source": [
    "E_part:= 1/8 \\epsilon^{i k l} \\epsilon^{j m n} (\\Psi^{k m} +\\Psi^{m k}) (\\Psi^{l n} +\\Psi^{n l}) F^{j a};\n",
    "epsilon_to_delta(_)\n",
    "expand_delta(_)\n",
    "distribute(_)\n",
    "eliminate_kronecker(_)\n",
    "meld(_)\n",
    "rename_dummies(_)\n",
    "substitute(_,$\\Psi^{k k} = 0 $)\n",
    "canonicalise(_)\n",
    "evaluate(_)\n",
    "\n",
    "lines = str(_).split(\"\\n\")[1:-1]\n",
    "\n",
    "sols_dict = {\"ψ\":0, \"L\":9, \"β\":9+1, \"A\":9+1+3, \"θ\":9+1+3+9}\n",
    "Write_Constraint_Equations(lines,sols_dict)"
   ]
  },
  {
   "cell_type": "code",
   "execution_count": 22,
   "id": "702062c9",
   "metadata": {
    "vscode": {
     "languageId": "python"
    }
   },
   "outputs": [
    {
     "data": {
      "text/markdown": [
       "${}\\frac{1}{6}\\epsilon^{i j k} \\epsilon^{l m n} \\Psi^{i l} \\Psi^{j m} \\Psi^{k n}$"
      ]
     },
     "metadata": {},
     "output_type": "display_data"
    }
   ],
   "source": [
    "det_Psi:= 1/6 \\epsilon^{i j k} \\epsilon^{l m n} \\Psi^{i l} \\Psi^{j m} \\Psi^{k n};\n",
    "epsilon_to_delta(_)\n",
    "expand_delta(_)\n",
    "distribute(_)\n",
    "eliminate_kronecker(_)\n",
    "substitute(_,$\\Psi^{k k} = 0$)\n",
    "rename_dummies(_)\n",
    "meld(_)\n",
    "evaluate(_)\n",
    "\n",
    "lines = [str(_)]\n",
    "sols_dict = {\"ψ\":0, \"L\":9, \"β\":9+1, \"A\":9+1+3, \"θ\":9+1+3+9}\n",
    "Write_Constraint_Equations(lines,sols_dict)"
   ]
  },
  {
   "cell_type": "markdown",
   "id": "8261cf27-b40a-488c-ad2d-74eb6ba89e55",
   "metadata": {},
   "source": [
    "### $\\psi^{i j} = \\psi^{(i j)} - \\epsilon^{i j k} \\phi^{k}$"
   ]
  },
  {
   "cell_type": "code",
   "execution_count": 20,
   "id": "5f208be8-0742-412d-8896-0ab61251f469",
   "metadata": {
    "tags": [],
    "vscode": {
     "languageId": "python"
    }
   },
   "outputs": [
    {
     "data": {
      "text/markdown": [
       "${}\\frac{1}{2}I L \\left(\\epsilon^{j l k} \\delta^{i m}+\\epsilon^{j m k} \\delta^{i l}+\\epsilon^{i l k} \\delta^{j m}+\\epsilon^{i m k} \\delta^{j l}-\\epsilon^{i j m} \\delta^{l k}\\right) S^{l a} D_{a}{\\psi^{m k}}-\\epsilon^{i k l} \\theta^{k} \\psi^{l j}-\\epsilon^{j k l} \\theta^{k} \\psi^{l i}+\\alpha \\left(\\psi^{i j}-\\psi^{j i}\\right)$"
      ]
     },
     "metadata": {},
     "output_type": "display_data"
    }
   ],
   "source": [
    "Phi_dt:= I L/2 ( \\epsilon^{j l k} \\delta^{i m} + \\epsilon^{j m k} \\delta^{i l} + \\epsilon^{i l k} \\delta^{j m} + \\epsilon^{i m k} \\delta^{j l} - \\epsilon^{i j m} \\delta^{l k} )S^{l a} D_{a}{\\psi^{m k}}) - \\epsilon^{i k l} \\theta^{k} \\psi^{l j} - \\epsilon^{j k l} \\theta^{k} \\psi^{l i} + \\alpha (\\psi^{i j} - \\psi^{j i});\n",
    "distribute(_)\n",
    "substitute(_,$D_{a}{\\psi^{i j}} -> \\partial_{a}{\\psi^{i j}} + \\epsilon^{i k l} A^{k}_{a} \\psi^{l j} + \\epsilon^{j k l} A^{k}_{a} \\psi^{i l}$)\n",
    "distribute(_)\n",
    "evaluate(_)\n",
    "sort_product(_)\n",
    "\n",
    "lines = str(_).split(\"\\n\")[1:-1]\n",
    "for i in range(len(lines)):\n",
    "    lines[i] = re.sub(r\"    \\{(\\d), (\\d)\\}\", \"ψ^{\\g<1> \\g<2>}\",lines[i])\n",
    "    lines[i] = str(lines[i])\n",
    "\n",
    "sols_dict = {\"ψ\":0, \"L\":9, \"β\":9+1, \"A\":9+1+3, \"θ\":9+1+3+9, \"α\": -1}\n",
    "Write_Evolution_Equations(lines,sols_dict)"
   ]
  },
  {
   "cell_type": "code",
   "execution_count": null,
   "id": "d29bbe35-0817-47bd-a569-7d34786446a8",
   "metadata": {
    "vscode": {
     "languageId": "python"
    }
   },
   "outputs": [],
   "source": []
  }
 ],
 "metadata": {
  "kernelspec": {
   "display_name": "Cadabra2",
   "language": "python",
   "name": "cadabra2"
  },
  "language_info": {
   "codemirror_mode": "cadabra",
   "file_extension": ".ipynb",
   "mimetype": "text/cadabra",
   "name": "cadabra2",
   "pygments_lexer": "cadabra"
  }
 },
 "nbformat": 4,
 "nbformat_minor": 5
}
